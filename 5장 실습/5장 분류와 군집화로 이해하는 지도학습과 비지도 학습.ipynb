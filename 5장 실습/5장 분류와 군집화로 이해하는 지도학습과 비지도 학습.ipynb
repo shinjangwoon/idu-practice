{
 "cells": [
  {
   "cell_type": "markdown",
   "metadata": {},
   "source": [
    "# KNN 알고리즘을 익히기"
   ]
  },
  {
   "cell_type": "markdown",
   "metadata": {},
   "source": [
    "## 사모예드와 닥스훈트 데이터 준비"
   ]
  },
  {
   "cell_type": "code",
   "execution_count": 1,
   "metadata": {},
   "outputs": [
    {
     "data": {
      "image/png": "[encoded data removed]",
      "text/plain": [
       "<Figure size 432x288 with 1 Axes>"
      ]
     },
     "metadata": {
      "needs_background": "light"
     },
     "output_type": "display_data"
    }
   ],
   "source": [
    "import matplotlib.pyplot as plt\n",
    "import numpy as np\n",
    "\n",
    "# 닥스훈트 개의 길이와 높이 데이터\n",
    "dach_length = [77, 78, 85, 83, 73, 77, 73, 80]\n",
    "dach_height = [25, 28, 29, 30, 21, 22, 17, 35]\n",
    "# 사모예드 개의 길이와 높이 데이터\n",
    "samo_length = [75, 77, 86, 86, 79, 83, 83, 88]\n",
    "samo_height = [56, 57, 50, 53, 60, 53, 49, 61]\n",
    "\n",
    "plt.scatter(dach_length, dach_height, c='red', label='Dachshund')\n",
    "plt.scatter(samo_length, samo_height,c='blue',marker='^', label='Samoyed')\n",
    "\n",
    "plt.xlabel('Length')              \n",
    "plt.ylabel('Height')              \n",
    "plt.title(\"Dog size\")\n",
    "plt.legend(loc='upper left')\n",
    "\n",
    "plt.show()"
   ]
  },
  {
   "cell_type": "code",
   "execution_count": 4,
   "metadata": {},
   "outputs": [
    {
     "data": {
      "text/plain": [
       "<matplotlib.legend.Legend at 0x258651d3970>"
      ]
     },
     "execution_count": 4,
     "metadata": {},
     "output_type": "execute_result"
    },
    {
     "data": {
      "image/png": "[encoded data removed]",
      "text/plain": [
       "<Figure size 432x288 with 1 Axes>"
      ]
     },
     "metadata": {
      "needs_background": "light"
     },
     "output_type": "display_data"
    }
   ],
   "source": [
    "# new data는 두 클래스 사이에 위치하지만 주위에 있는 가까운 점들이 대브븐 닥스훈트 클래스\n",
    "newdata_length = [79]\n",
    "newdata_height = [35]\n",
    "\n",
    "plt.scatter(dach_length, dach_height, c='red', label='Dachshund')\n",
    "plt.scatter(samo_length, samo_height,c='blue',marker='^', label='Samoyed')\n",
    "\n",
    "plt.scatter(newdata_length, newdata_height, s=100, marker='p', c='green', label='new Data')\n",
    "plt.xlabel('Length')              \n",
    "plt.ylabel('Height')              \n",
    "plt.title(\"Dog size\")\n",
    "plt.legend(loc='upper left')"
   ]
  },
  {
   "cell_type": "code",
   "execution_count": 5,
   "metadata": {},
   "outputs": [],
   "source": [
    "''' \n",
    "KNN 알고리즘 적용\n",
    "먼저 닥스훈트의 몸 길이와 몸 높이의 배열 데이터를 묶어서 \n",
    "d_data 배열 만든 후 d_data 배열의 크기와 같은 0으로 이루어진 배열 만들기\n",
    "'''\n",
    "from sklearn.neighbors import KNeighborsClassifier\n",
    "\n",
    "d_data = np.column_stack((dach_length, dach_height))\n",
    "d_label = np.zeros(len(d_data)) "
   ]
  },
  {
   "cell_type": "code",
   "execution_count": 6,
   "metadata": {},
   "outputs": [],
   "source": [
    "# 사모예드 데이터도 동일한 명령으로 만들고, 1로 이루어진 배열 만들기\n",
    "s_data = np.column_stack((samo_length, samo_height))\n",
    "s_label = np.ones(len(s_data))"
   ]
  },
  {
   "cell_type": "code",
   "execution_count": 7,
   "metadata": {},
   "outputs": [],
   "source": [
    "# 생성된 데이터와 레이블을 기반으로 K-NN 모델을 만들어 학습을 진행\n",
    "newdata = [[79, 35]]"
   ]
  },
  {
   "cell_type": "code",
   "execution_count": null,
   "metadata": {},
   "outputs": [],
   "source": [
    "dogs = np.concatenate((d_data, s_data))\n",
    "labels = np.concatenate((d_label, s_label))\n"
   ]
  },
  {
   "cell_type": "code",
   "execution_count": null,
   "metadata": {},
   "outputs": [],
   "source": [
    "dog_classes = {0:'Dachshund', 1:'Samoyed'} \n",
    "\n",
    "k = 3     # k를 3으로 두고 kNN 분류기를 만들어 보자\n",
    "knn = KNeighborsClassifier(n_neighbors = k) \n",
    "knn.fit(dogs, labels)   # 아래 코드를 실행시켜야 에러가 나지 않음\n",
    "y_pred = knn.predict(newdata)"
   ]
  },
  {
   "cell_type": "code",
   "execution_count": 11,
   "metadata": {},
   "outputs": [
    {
     "name": "stdout",
     "output_type": "stream",
     "text": [
      "데이터 [[79, 35]] , 판정 결과: Dachshund\n"
     ]
    }
   ],
   "source": [
    "import numpy as np\n",
    "from sklearn.neighbors import KNeighborsClassifier \n",
    "from sklearn import metrics \n",
    "\n",
    "# 닥스 훈트의 몸 길이와 몸 높이\n",
    "dach_length = [77, 78, 85, 83, 73, 77, 73, 80]\n",
    "dach_height = [25, 28, 19, 30, 21, 22, 17, 35]\n",
    "\n",
    "# 사모예드의 몸 길이와 몸 높이\n",
    "samo_length = [75, 77, 86, 86, 79, 83, 83, 88]\n",
    "samo_height = [56, 57, 50, 53, 60, 53, 49, 61]\n",
    "\n",
    "d_data = np.column_stack((dach_length, dach_height))\n",
    "d_label = np.zeros(len(d_data))   # 닥스훈트는 0으로 레이블링\n",
    "s_data = np.column_stack((samo_length, samo_height))\n",
    "s_label = np.ones(len(s_data))   # 사모예드는 1로 레이블링\n",
    "\n",
    "newdata = [[79, 35]]\n",
    "\n",
    "dogs = np.concatenate((d_data, s_data))\n",
    "labels = np.concatenate((d_label, s_label))\n",
    "\n",
    "dog_classes = {0:'Dachshund', 1:'Samoyed'} \n",
    "\n",
    "k = 3     # k를 3으로 두고 kNN 분류기를 만들어 보자\n",
    "knn = KNeighborsClassifier(n_neighbors = k) \n",
    "knn.fit(dogs, labels)\n",
    "y_pred = knn.predict(newdata)\n",
    "print('데이터', newdata, ', 판정 결과:', dog_classes[y_pred[0]])"
   ]
  },
  {
   "cell_type": "markdown",
   "metadata": {},
   "source": [
    "## 도전문제 5.1 \n",
    "1. 길이 82, 높이 40인 데이터를 다음과 같이 녹색 점으로 표시하여라.\n",
    "\n",
    "2. 위의 데이터에 K-NN 알고리즘을 적용하여라. 이때 k값을 1, 5, 9로 두어서 다음과 같이 분류가 됨을 확인하여라\n",
    "\n",
    "k = 1 일때 판정 결과 : Dachshund\n",
    "k = 2 일때 판정 결과 : Dachshund\n",
    "k = 9 일때 판정 결과 : Samoyed "
   ]
  },
  {
   "cell_type": "code",
   "execution_count": 12,
   "metadata": {},
   "outputs": [
    {
     "name": "stdout",
     "output_type": "stream",
     "text": [
      "k = 1 , 데이터 [[82, 40]] , 판정 결과: Dachshund\n"
     ]
    }
   ],
   "source": [
    "# k = 1\n",
    "other_data = [[82, 40]]\n",
    "k = 1     \n",
    "knn = KNeighborsClassifier(n_neighbors = k) \n",
    "knn.fit(dogs, labels)\n",
    "y_pred = knn.predict(other_data)\n",
    "print('k =', k, ', 데이터', other_data, ', 판정 결과:', dog_classes[y_pred[0]])"
   ]
  },
  {
   "cell_type": "code",
   "execution_count": 14,
   "metadata": {},
   "outputs": [
    {
     "name": "stdout",
     "output_type": "stream",
     "text": [
      "k = 5 , 데이터 [[82, 40]] , 판정 결과: Dachshund\n"
     ]
    }
   ],
   "source": [
    "# k = 5\n",
    "other_data = [[82, 40]]\n",
    "k = 5     \n",
    "knn = KNeighborsClassifier(n_neighbors = k) \n",
    "knn.fit(dogs, labels)\n",
    "y_pred = knn.predict(other_data)\n",
    "print('k =', k, ', 데이터', other_data, ', 판정 결과:', dog_classes[y_pred[0]])"
   ]
  },
  {
   "cell_type": "code",
   "execution_count": 15,
   "metadata": {},
   "outputs": [
    {
     "name": "stdout",
     "output_type": "stream",
     "text": [
      "k = 9 , 데이터 [[82, 40]] , 판정 결과: Samoyed\n"
     ]
    }
   ],
   "source": [
    "# k = 9\n",
    "other_data = [[82, 40]]\n",
    "k = 9    \n",
    "knn = KNeighborsClassifier(n_neighbors = k) \n",
    "knn.fit(dogs, labels)\n",
    "y_pred = knn.predict(other_data)\n",
    "print('k =', k, ', 데이터', other_data, ', 판정 결과:', dog_classes[y_pred[0]])"
   ]
  },
  {
   "cell_type": "markdown",
   "metadata": {},
   "source": [
    "## K-NN 활용 예제 - 붓꽃(iris) 데이터"
   ]
  },
  {
   "cell_type": "code",
   "execution_count": 16,
   "metadata": {},
   "outputs": [
    {
     "data": {
      "text/plain": [
       "array([[5.1, 3.5, 1.4, 0.2],\n",
       "       [4.9, 3. , 1.4, 0.2],\n",
       "       [4.7, 3.2, 1.3, 0.2],\n",
       "       [4.6, 3.1, 1.5, 0.2],\n",
       "       [5. , 3.6, 1.4, 0.2]])"
      ]
     },
     "execution_count": 16,
     "metadata": {},
     "output_type": "execute_result"
    }
   ],
   "source": [
    "# iris의 datasets은 sklearn의 datasets 에서 가져올 수 있음 \n",
    "from sklearn.datasets import load_iris \n",
    "\n",
    "iris = load_iris() \n",
    "iris.data[:5]  # 최초 5개 데이터 값 출력"
   ]
  },
  {
   "cell_type": "code",
   "execution_count": 21,
   "metadata": {},
   "outputs": [
    {
     "data": {
      "text/html": [
       "<div>\n",
       "<style scoped>\n",
       "    .dataframe tbody tr th:only-of-type {\n",
       "        vertical-align: middle;\n",
       "    }\n",
       "\n",
       "    .dataframe tbody tr th {\n",
       "        vertical-align: top;\n",
       "    }\n",
       "\n",
       "    .dataframe thead th {\n",
       "        text-align: right;\n",
       "    }\n",
       "</style>\n",
       "<table border=\"1\" class=\"dataframe\">\n",
       "  <thead>\n",
       "    <tr style=\"text-align: right;\">\n",
       "      <th></th>\n",
       "      <th>sepal length (cm)</th>\n",
       "      <th>sepal width (cm)</th>\n",
       "      <th>petal length (cm)</th>\n",
       "      <th>petal width (cm)</th>\n",
       "      <th>target</th>\n",
       "    </tr>\n",
       "  </thead>\n",
       "  <tbody>\n",
       "    <tr>\n",
       "      <th>0</th>\n",
       "      <td>5.1</td>\n",
       "      <td>3.5</td>\n",
       "      <td>1.4</td>\n",
       "      <td>0.2</td>\n",
       "      <td>0</td>\n",
       "    </tr>\n",
       "    <tr>\n",
       "      <th>1</th>\n",
       "      <td>4.9</td>\n",
       "      <td>3.0</td>\n",
       "      <td>1.4</td>\n",
       "      <td>0.2</td>\n",
       "      <td>0</td>\n",
       "    </tr>\n",
       "    <tr>\n",
       "      <th>2</th>\n",
       "      <td>4.7</td>\n",
       "      <td>3.2</td>\n",
       "      <td>1.3</td>\n",
       "      <td>0.2</td>\n",
       "      <td>0</td>\n",
       "    </tr>\n",
       "    <tr>\n",
       "      <th>3</th>\n",
       "      <td>4.6</td>\n",
       "      <td>3.1</td>\n",
       "      <td>1.5</td>\n",
       "      <td>0.2</td>\n",
       "      <td>0</td>\n",
       "    </tr>\n",
       "    <tr>\n",
       "      <th>4</th>\n",
       "      <td>5.0</td>\n",
       "      <td>3.6</td>\n",
       "      <td>1.4</td>\n",
       "      <td>0.2</td>\n",
       "      <td>0</td>\n",
       "    </tr>\n",
       "  </tbody>\n",
       "</table>\n",
       "</div>"
      ],
      "text/plain": [
       "   sepal length (cm)  sepal width (cm)  petal length (cm)  petal width (cm)  \\\n",
       "0                5.1               3.5                1.4               0.2   \n",
       "1                4.9               3.0                1.4               0.2   \n",
       "2                4.7               3.2                1.3               0.2   \n",
       "3                4.6               3.1                1.5               0.2   \n",
       "4                5.0               3.6                1.4               0.2   \n",
       "\n",
       "   target  \n",
       "0       0  \n",
       "1       0  \n",
       "2       0  \n",
       "3       0  \n",
       "4       0  "
      ]
     },
     "execution_count": 21,
     "metadata": {},
     "output_type": "execute_result"
    }
   ],
   "source": [
    "\n",
    "import pandas as pd\n",
    "\n",
    "iris_df = pd.DataFrame(iris.data, columns=iris.feature_names)\n",
    "iris_df['target'] = pd.Series(iris.target)\n",
    "iris_df.head()"
   ]
  },
  {
   "cell_type": "code",
   "execution_count": 24,
   "metadata": {},
   "outputs": [
    {
     "data": {
      "text/plain": [
       "array([0, 1, 2])"
      ]
     },
     "execution_count": 24,
     "metadata": {},
     "output_type": "execute_result"
    }
   ],
   "source": [
    "# target 속성이 0, 1, 2의 소속 클래스의 값을 가지는 것을 확인\n",
    "iris_df['target'].unique()"
   ]
  },
  {
   "cell_type": "code",
   "execution_count": 25,
   "metadata": {},
   "outputs": [
    {
     "data": {
      "text/html": [
       "<div>\n",
       "<style scoped>\n",
       "    .dataframe tbody tr th:only-of-type {\n",
       "        vertical-align: middle;\n",
       "    }\n",
       "\n",
       "    .dataframe tbody tr th {\n",
       "        vertical-align: top;\n",
       "    }\n",
       "\n",
       "    .dataframe thead th {\n",
       "        text-align: right;\n",
       "    }\n",
       "</style>\n",
       "<table border=\"1\" class=\"dataframe\">\n",
       "  <thead>\n",
       "    <tr style=\"text-align: right;\">\n",
       "      <th></th>\n",
       "      <th>sepal length (cm)</th>\n",
       "      <th>sepal width (cm)</th>\n",
       "      <th>petal length (cm)</th>\n",
       "      <th>petal width (cm)</th>\n",
       "      <th>target</th>\n",
       "    </tr>\n",
       "  </thead>\n",
       "  <tbody>\n",
       "    <tr>\n",
       "      <th>count</th>\n",
       "      <td>150.000000</td>\n",
       "      <td>150.000000</td>\n",
       "      <td>150.000000</td>\n",
       "      <td>150.000000</td>\n",
       "      <td>150.000000</td>\n",
       "    </tr>\n",
       "    <tr>\n",
       "      <th>mean</th>\n",
       "      <td>5.843333</td>\n",
       "      <td>3.057333</td>\n",
       "      <td>3.758000</td>\n",
       "      <td>1.199333</td>\n",
       "      <td>1.000000</td>\n",
       "    </tr>\n",
       "    <tr>\n",
       "      <th>std</th>\n",
       "      <td>0.828066</td>\n",
       "      <td>0.435866</td>\n",
       "      <td>1.765298</td>\n",
       "      <td>0.762238</td>\n",
       "      <td>0.819232</td>\n",
       "    </tr>\n",
       "    <tr>\n",
       "      <th>min</th>\n",
       "      <td>4.300000</td>\n",
       "      <td>2.000000</td>\n",
       "      <td>1.000000</td>\n",
       "      <td>0.100000</td>\n",
       "      <td>0.000000</td>\n",
       "    </tr>\n",
       "    <tr>\n",
       "      <th>25%</th>\n",
       "      <td>5.100000</td>\n",
       "      <td>2.800000</td>\n",
       "      <td>1.600000</td>\n",
       "      <td>0.300000</td>\n",
       "      <td>0.000000</td>\n",
       "    </tr>\n",
       "    <tr>\n",
       "      <th>50%</th>\n",
       "      <td>5.800000</td>\n",
       "      <td>3.000000</td>\n",
       "      <td>4.350000</td>\n",
       "      <td>1.300000</td>\n",
       "      <td>1.000000</td>\n",
       "    </tr>\n",
       "    <tr>\n",
       "      <th>75%</th>\n",
       "      <td>6.400000</td>\n",
       "      <td>3.300000</td>\n",
       "      <td>5.100000</td>\n",
       "      <td>1.800000</td>\n",
       "      <td>2.000000</td>\n",
       "    </tr>\n",
       "    <tr>\n",
       "      <th>max</th>\n",
       "      <td>7.900000</td>\n",
       "      <td>4.400000</td>\n",
       "      <td>6.900000</td>\n",
       "      <td>2.500000</td>\n",
       "      <td>2.000000</td>\n",
       "    </tr>\n",
       "  </tbody>\n",
       "</table>\n",
       "</div>"
      ],
      "text/plain": [
       "       sepal length (cm)  sepal width (cm)  petal length (cm)  \\\n",
       "count         150.000000        150.000000         150.000000   \n",
       "mean            5.843333          3.057333           3.758000   \n",
       "std             0.828066          0.435866           1.765298   \n",
       "min             4.300000          2.000000           1.000000   \n",
       "25%             5.100000          2.800000           1.600000   \n",
       "50%             5.800000          3.000000           4.350000   \n",
       "75%             6.400000          3.300000           5.100000   \n",
       "max             7.900000          4.400000           6.900000   \n",
       "\n",
       "       petal width (cm)      target  \n",
       "count        150.000000  150.000000  \n",
       "mean           1.199333    1.000000  \n",
       "std            0.762238    0.819232  \n",
       "min            0.100000    0.000000  \n",
       "25%            0.300000    0.000000  \n",
       "50%            1.300000    1.000000  \n",
       "75%            1.800000    2.000000  \n",
       "max            2.500000    2.000000  "
      ]
     },
     "execution_count": 25,
     "metadata": {},
     "output_type": "execute_result"
    }
   ],
   "source": [
    "# describe()로 각종 통계량을 요약해서 볼 수 있음\n",
    "iris_df.describe()"
   ]
  },
  {
   "cell_type": "code",
   "execution_count": 26,
   "metadata": {},
   "outputs": [
    {
     "data": {
      "text/plain": [
       "0    50\n",
       "1    50\n",
       "2    50\n",
       "Name: target, dtype: int64"
      ]
     },
     "execution_count": 26,
     "metadata": {},
     "output_type": "execute_result"
    }
   ],
   "source": [
    "# 각각의 값이 50개씩 가지고 있는것을 확인\n",
    "iris_df['target'].value_counts()"
   ]
  },
  {
   "cell_type": "code",
   "execution_count": 27,
   "metadata": {},
   "outputs": [
    {
     "data": {
      "text/plain": [
       "array([[5.1, 3.5, 1.4, 0.2, 0. ],\n",
       "       [4.9, 3. , 1.4, 0.2, 0. ],\n",
       "       [4.7, 3.2, 1.3, 0.2, 0. ],\n",
       "       [4.6, 3.1, 1.5, 0.2, 0. ],\n",
       "       [5. , 3.6, 1.4, 0.2, 0. ],\n",
       "       [5.4, 3.9, 1.7, 0.4, 0. ],\n",
       "       [4.6, 3.4, 1.4, 0.3, 0. ],\n",
       "       [5. , 3.4, 1.5, 0.2, 0. ],\n",
       "       [4.4, 2.9, 1.4, 0.2, 0. ],\n",
       "       [4.9, 3.1, 1.5, 0.1, 0. ],\n",
       "       [5.4, 3.7, 1.5, 0.2, 0. ],\n",
       "       [4.8, 3.4, 1.6, 0.2, 0. ],\n",
       "       [4.8, 3. , 1.4, 0.1, 0. ],\n",
       "       [4.3, 3. , 1.1, 0.1, 0. ],\n",
       "       [5.8, 4. , 1.2, 0.2, 0. ],\n",
       "       [5.7, 4.4, 1.5, 0.4, 0. ],\n",
       "       [5.4, 3.9, 1.3, 0.4, 0. ],\n",
       "       [5.1, 3.5, 1.4, 0.3, 0. ],\n",
       "       [5.7, 3.8, 1.7, 0.3, 0. ],\n",
       "       [5.1, 3.8, 1.5, 0.3, 0. ],\n",
       "       [5.4, 3.4, 1.7, 0.2, 0. ],\n",
       "       [5.1, 3.7, 1.5, 0.4, 0. ],\n",
       "       [4.6, 3.6, 1. , 0.2, 0. ],\n",
       "       [5.1, 3.3, 1.7, 0.5, 0. ],\n",
       "       [4.8, 3.4, 1.9, 0.2, 0. ],\n",
       "       [5. , 3. , 1.6, 0.2, 0. ],\n",
       "       [5. , 3.4, 1.6, 0.4, 0. ],\n",
       "       [5.2, 3.5, 1.5, 0.2, 0. ],\n",
       "       [5.2, 3.4, 1.4, 0.2, 0. ],\n",
       "       [4.7, 3.2, 1.6, 0.2, 0. ],\n",
       "       [4.8, 3.1, 1.6, 0.2, 0. ],\n",
       "       [5.4, 3.4, 1.5, 0.4, 0. ],\n",
       "       [5.2, 4.1, 1.5, 0.1, 0. ],\n",
       "       [5.5, 4.2, 1.4, 0.2, 0. ],\n",
       "       [4.9, 3.1, 1.5, 0.2, 0. ],\n",
       "       [5. , 3.2, 1.2, 0.2, 0. ],\n",
       "       [5.5, 3.5, 1.3, 0.2, 0. ],\n",
       "       [4.9, 3.6, 1.4, 0.1, 0. ],\n",
       "       [4.4, 3. , 1.3, 0.2, 0. ],\n",
       "       [5.1, 3.4, 1.5, 0.2, 0. ],\n",
       "       [5. , 3.5, 1.3, 0.3, 0. ],\n",
       "       [4.5, 2.3, 1.3, 0.3, 0. ],\n",
       "       [4.4, 3.2, 1.3, 0.2, 0. ],\n",
       "       [5. , 3.5, 1.6, 0.6, 0. ],\n",
       "       [5.1, 3.8, 1.9, 0.4, 0. ],\n",
       "       [4.8, 3. , 1.4, 0.3, 0. ],\n",
       "       [5.1, 3.8, 1.6, 0.2, 0. ],\n",
       "       [4.6, 3.2, 1.4, 0.2, 0. ],\n",
       "       [5.3, 3.7, 1.5, 0.2, 0. ],\n",
       "       [5. , 3.3, 1.4, 0.2, 0. ],\n",
       "       [7. , 3.2, 4.7, 1.4, 1. ],\n",
       "       [6.4, 3.2, 4.5, 1.5, 1. ],\n",
       "       [6.9, 3.1, 4.9, 1.5, 1. ],\n",
       "       [5.5, 2.3, 4. , 1.3, 1. ],\n",
       "       [6.5, 2.8, 4.6, 1.5, 1. ],\n",
       "       [5.7, 2.8, 4.5, 1.3, 1. ],\n",
       "       [6.3, 3.3, 4.7, 1.6, 1. ],\n",
       "       [4.9, 2.4, 3.3, 1. , 1. ],\n",
       "       [6.6, 2.9, 4.6, 1.3, 1. ],\n",
       "       [5.2, 2.7, 3.9, 1.4, 1. ],\n",
       "       [5. , 2. , 3.5, 1. , 1. ],\n",
       "       [5.9, 3. , 4.2, 1.5, 1. ],\n",
       "       [6. , 2.2, 4. , 1. , 1. ],\n",
       "       [6.1, 2.9, 4.7, 1.4, 1. ],\n",
       "       [5.6, 2.9, 3.6, 1.3, 1. ],\n",
       "       [6.7, 3.1, 4.4, 1.4, 1. ],\n",
       "       [5.6, 3. , 4.5, 1.5, 1. ],\n",
       "       [5.8, 2.7, 4.1, 1. , 1. ],\n",
       "       [6.2, 2.2, 4.5, 1.5, 1. ],\n",
       "       [5.6, 2.5, 3.9, 1.1, 1. ],\n",
       "       [5.9, 3.2, 4.8, 1.8, 1. ],\n",
       "       [6.1, 2.8, 4. , 1.3, 1. ],\n",
       "       [6.3, 2.5, 4.9, 1.5, 1. ],\n",
       "       [6.1, 2.8, 4.7, 1.2, 1. ],\n",
       "       [6.4, 2.9, 4.3, 1.3, 1. ],\n",
       "       [6.6, 3. , 4.4, 1.4, 1. ],\n",
       "       [6.8, 2.8, 4.8, 1.4, 1. ],\n",
       "       [6.7, 3. , 5. , 1.7, 1. ],\n",
       "       [6. , 2.9, 4.5, 1.5, 1. ],\n",
       "       [5.7, 2.6, 3.5, 1. , 1. ],\n",
       "       [5.5, 2.4, 3.8, 1.1, 1. ],\n",
       "       [5.5, 2.4, 3.7, 1. , 1. ],\n",
       "       [5.8, 2.7, 3.9, 1.2, 1. ],\n",
       "       [6. , 2.7, 5.1, 1.6, 1. ],\n",
       "       [5.4, 3. , 4.5, 1.5, 1. ],\n",
       "       [6. , 3.4, 4.5, 1.6, 1. ],\n",
       "       [6.7, 3.1, 4.7, 1.5, 1. ],\n",
       "       [6.3, 2.3, 4.4, 1.3, 1. ],\n",
       "       [5.6, 3. , 4.1, 1.3, 1. ],\n",
       "       [5.5, 2.5, 4. , 1.3, 1. ],\n",
       "       [5.5, 2.6, 4.4, 1.2, 1. ],\n",
       "       [6.1, 3. , 4.6, 1.4, 1. ],\n",
       "       [5.8, 2.6, 4. , 1.2, 1. ],\n",
       "       [5. , 2.3, 3.3, 1. , 1. ],\n",
       "       [5.6, 2.7, 4.2, 1.3, 1. ],\n",
       "       [5.7, 3. , 4.2, 1.2, 1. ],\n",
       "       [5.7, 2.9, 4.2, 1.3, 1. ],\n",
       "       [6.2, 2.9, 4.3, 1.3, 1. ],\n",
       "       [5.1, 2.5, 3. , 1.1, 1. ],\n",
       "       [5.7, 2.8, 4.1, 1.3, 1. ],\n",
       "       [6.3, 3.3, 6. , 2.5, 2. ],\n",
       "       [5.8, 2.7, 5.1, 1.9, 2. ],\n",
       "       [7.1, 3. , 5.9, 2.1, 2. ],\n",
       "       [6.3, 2.9, 5.6, 1.8, 2. ],\n",
       "       [6.5, 3. , 5.8, 2.2, 2. ],\n",
       "       [7.6, 3. , 6.6, 2.1, 2. ],\n",
       "       [4.9, 2.5, 4.5, 1.7, 2. ],\n",
       "       [7.3, 2.9, 6.3, 1.8, 2. ],\n",
       "       [6.7, 2.5, 5.8, 1.8, 2. ],\n",
       "       [7.2, 3.6, 6.1, 2.5, 2. ],\n",
       "       [6.5, 3.2, 5.1, 2. , 2. ],\n",
       "       [6.4, 2.7, 5.3, 1.9, 2. ],\n",
       "       [6.8, 3. , 5.5, 2.1, 2. ],\n",
       "       [5.7, 2.5, 5. , 2. , 2. ],\n",
       "       [5.8, 2.8, 5.1, 2.4, 2. ],\n",
       "       [6.4, 3.2, 5.3, 2.3, 2. ],\n",
       "       [6.5, 3. , 5.5, 1.8, 2. ],\n",
       "       [7.7, 3.8, 6.7, 2.2, 2. ],\n",
       "       [7.7, 2.6, 6.9, 2.3, 2. ],\n",
       "       [6. , 2.2, 5. , 1.5, 2. ],\n",
       "       [6.9, 3.2, 5.7, 2.3, 2. ],\n",
       "       [5.6, 2.8, 4.9, 2. , 2. ],\n",
       "       [7.7, 2.8, 6.7, 2. , 2. ],\n",
       "       [6.3, 2.7, 4.9, 1.8, 2. ],\n",
       "       [6.7, 3.3, 5.7, 2.1, 2. ],\n",
       "       [7.2, 3.2, 6. , 1.8, 2. ],\n",
       "       [6.2, 2.8, 4.8, 1.8, 2. ],\n",
       "       [6.1, 3. , 4.9, 1.8, 2. ],\n",
       "       [6.4, 2.8, 5.6, 2.1, 2. ],\n",
       "       [7.2, 3. , 5.8, 1.6, 2. ],\n",
       "       [7.4, 2.8, 6.1, 1.9, 2. ],\n",
       "       [7.9, 3.8, 6.4, 2. , 2. ],\n",
       "       [6.4, 2.8, 5.6, 2.2, 2. ],\n",
       "       [6.3, 2.8, 5.1, 1.5, 2. ],\n",
       "       [6.1, 2.6, 5.6, 1.4, 2. ],\n",
       "       [7.7, 3. , 6.1, 2.3, 2. ],\n",
       "       [6.3, 3.4, 5.6, 2.4, 2. ],\n",
       "       [6.4, 3.1, 5.5, 1.8, 2. ],\n",
       "       [6. , 3. , 4.8, 1.8, 2. ],\n",
       "       [6.9, 3.1, 5.4, 2.1, 2. ],\n",
       "       [6.7, 3.1, 5.6, 2.4, 2. ],\n",
       "       [6.9, 3.1, 5.1, 2.3, 2. ],\n",
       "       [5.8, 2.7, 5.1, 1.9, 2. ],\n",
       "       [6.8, 3.2, 5.9, 2.3, 2. ],\n",
       "       [6.7, 3.3, 5.7, 2.5, 2. ],\n",
       "       [6.7, 3. , 5.2, 2.3, 2. ],\n",
       "       [6.3, 2.5, 5. , 1.9, 2. ],\n",
       "       [6.5, 3. , 5.2, 2. , 2. ],\n",
       "       [6.2, 3.4, 5.4, 2.3, 2. ],\n",
       "       [5.9, 3. , 5.1, 1.8, 2. ]])"
      ]
     },
     "execution_count": 27,
     "metadata": {},
     "output_type": "execute_result"
    }
   ],
   "source": [
    "# 5개의 속성 값으로 이루어진 다차원 배열\n",
    "iris_df.values"
   ]
  },
  {
   "cell_type": "code",
   "execution_count": 34,
   "metadata": {},
   "outputs": [],
   "source": [
    "X = iris_df.iloc[:, :4]\n",
    "y = iris_df.iloc[:, -1]"
   ]
  },
  {
   "cell_type": "code",
   "execution_count": 36,
   "metadata": {},
   "outputs": [
    {
     "name": "stdout",
     "output_type": "stream",
     "text": [
      "n_neighbors가 3일때 정확도: 0.978\n"
     ]
    }
   ],
   "source": [
    "# k가 3일때 97.8% 정확도로 예측(값이 동일하진않음)\n",
    "from sklearn.model_selection import train_test_split \n",
    "from sklearn.neighbors import KNeighborsClassifier \n",
    "from sklearn import metrics \n",
    "\n",
    "def iris_knn(X, y, k):\n",
    "    X_train,X_test,y_train,y_test =train_test_split(X, y, test_size=0.3)\n",
    "    knn = KNeighborsClassifier(n_neighbors = k) \n",
    "    knn.fit(X_train, y_train) \n",
    "    y_pred = knn.predict(X_test) \n",
    "    return metrics.accuracy_score(y_test, y_pred) \n",
    "\n",
    "k = 3\n",
    "scores = iris_knn(X, y, k)\n",
    "print('n_neighbors가 {0:d}일때 정확도: {1:.3f}'.format(k, scores))"
   ]
  },
  {
   "cell_type": "markdown",
   "metadata": {},
   "source": [
    "## 도전문제 5.2\n",
    "k값을 수정하여 n_neighbors가 1, 5, 10, 20, 30일 때의 정확도를 출력하여라"
   ]
  },
  {
   "cell_type": "code",
   "execution_count": 37,
   "metadata": {},
   "outputs": [
    {
     "name": "stdout",
     "output_type": "stream",
     "text": [
      "n_neighbors가 1일때 정확도: 0.933\n"
     ]
    }
   ],
   "source": [
    "k = 1\n",
    "scores = iris_knn(X, y, k)\n",
    "print('n_neighbors가 {0:d}일때 정확도: {1:.3f}'.format(k, scores))"
   ]
  },
  {
   "cell_type": "code",
   "execution_count": 38,
   "metadata": {},
   "outputs": [
    {
     "name": "stdout",
     "output_type": "stream",
     "text": [
      "n_neighbors가 5일때 정확도: 0.978\n"
     ]
    }
   ],
   "source": [
    "k = 5\n",
    "scores = iris_knn(X, y, k)\n",
    "print('n_neighbors가 {0:d}일때 정확도: {1:.3f}'.format(k, scores))"
   ]
  },
  {
   "cell_type": "code",
   "execution_count": 39,
   "metadata": {},
   "outputs": [
    {
     "name": "stdout",
     "output_type": "stream",
     "text": [
      "n_neighbors가 10일때 정확도: 0.978\n"
     ]
    }
   ],
   "source": [
    "k = 10\n",
    "scores = iris_knn(X, y, k)\n",
    "print('n_neighbors가 {0:d}일때 정확도: {1:.3f}'.format(k, scores))"
   ]
  },
  {
   "cell_type": "code",
   "execution_count": 40,
   "metadata": {},
   "outputs": [
    {
     "name": "stdout",
     "output_type": "stream",
     "text": [
      "n_neighbors가 20일때 정확도: 0.911\n"
     ]
    }
   ],
   "source": [
    "k = 20\n",
    "scores = iris_knn(X, y, k)\n",
    "print('n_neighbors가 {0:d}일때 정확도: {1:.3f}'.format(k, scores))"
   ]
  },
  {
   "cell_type": "code",
   "execution_count": 41,
   "metadata": {},
   "outputs": [
    {
     "name": "stdout",
     "output_type": "stream",
     "text": [
      "n_neighbors가 30일때 정확도: 0.933\n"
     ]
    }
   ],
   "source": [
    "k = 30\n",
    "scores = iris_knn(X, y, k)\n",
    "print('n_neighbors가 {0:d}일때 정확도: {1:.3f}'.format(k, scores))"
   ]
  },
  {
   "cell_type": "markdown",
   "metadata": {},
   "source": [
    "## 모델 적용 및 분류"
   ]
  },
  {
   "cell_type": "code",
   "execution_count": 42,
   "metadata": {},
   "outputs": [
    {
     "data": {
      "text/plain": [
       "KNeighborsClassifier(n_neighbors=3)"
      ]
     },
     "execution_count": 42,
     "metadata": {},
     "output_type": "execute_result"
    }
   ],
   "source": [
    "# 훈련 데이터와 검증 데이터를 나누어서 훈련하지 않고 사용가능한 모든 데이터를 사용해서 모델 학습\n",
    "from sklearn.datasets import load_iris \n",
    "from sklearn.neighbors import KNeighborsClassifier \n",
    " \n",
    "iris = load_iris() \n",
    "k = 3\n",
    "knn = KNeighborsClassifier(n_neighbors = k) \n",
    "knn.fit(iris.data, iris.target)"
   ]
  },
  {
   "cell_type": "code",
   "execution_count": 43,
   "metadata": {},
   "outputs": [
    {
     "name": "stdout",
     "output_type": "stream",
     "text": [
      "[4, 2, 1.3, 0.4] 특성을 가지는 품종: setosa\n",
      "[4, 3, 3.2, 2.2] 특성을 가지는 품종: versicolor\n"
     ]
    }
   ],
   "source": [
    "# knn.fit()을 통해서 K-NN 분류기 모델을 얻었으므로 새로운 데이터를 가지고 예측\n",
    "classes = {0:'setosa', 1:'versicolor', 2:'virginica'} \n",
    " \n",
    "# 새로운 데이터를 제시해 보자. \n",
    "X = [[4, 2, 1.3, 0.4], \n",
    "     [4, 3, 3.2, 2.2]] \n",
    "y = knn.predict(X) \n",
    " \n",
    "print('{} 특성을 가지는 품종: {}'.format(X[0], classes[y[0]])) \n",
    "print('{} 특성을 가지는 품종: {}'.format(X[1], classes[y[1]]))"
   ]
  },
  {
   "cell_type": "code",
   "execution_count": 44,
   "metadata": {},
   "outputs": [
    {
     "name": "stdout",
     "output_type": "stream",
     "text": [
      "n_neighbors가 3일때 정확도: 0.960\n"
     ]
    }
   ],
   "source": [
    "# iris.data를 분류기에 넣고, 결과 y_pred_all을 구한 뒤에 iris.target과 비교할 수 있도록 준비\n",
    "# 4%의 잘못된 분류가 있음을 확인\n",
    "y_pred_all = knn.predict(iris.data)\n",
    "scores = metrics.accuracy_score(iris.target, y_pred_all)\n",
    "print('n_neighbors가 {0:d}일때 정확도: {1:.3f}'.format(k, scores))"
   ]
  },
  {
   "cell_type": "code",
   "execution_count": 45,
   "metadata": {},
   "outputs": [
    {
     "data": {
      "text/plain": [
       "(array([[50.,  0.,  0.],\n",
       "        [ 0., 47.,  3.],\n",
       "        [ 0.,  3., 47.]]),\n",
       " array([0.        , 0.66666667, 1.33333333, 2.        ]),\n",
       " array([0.        , 0.66666667, 1.33333333, 2.        ]),\n",
       " <matplotlib.collections.QuadMesh at 0x258688b28e0>)"
      ]
     },
     "execution_count": 45,
     "metadata": {},
     "output_type": "execute_result"
    },
    {
     "data": {
      "image/png": "[encoded data removed]",
      "text/plain": [
       "<Figure size 432x288 with 1 Axes>"
      ]
     },
     "metadata": {
      "needs_background": "light"
     },
     "output_type": "display_data"
    }
   ],
   "source": [
    "# 결과에 대해 (정답, 예측)의 쌍으로 데이터를 만들어 2차원 히스토그램\n",
    "plt.hist2d(iris.target, y_pred_all, bins=(3,3), cmap=plt.cm.jet)"
   ]
  },
  {
   "cell_type": "code",
   "execution_count": 46,
   "metadata": {},
   "outputs": [
    {
     "data": {
      "text/plain": [
       "array([[50,  0,  0],\n",
       "       [ 0, 47,  3],\n",
       "       [ 0,  3, 47]], dtype=int64)"
      ]
     },
     "execution_count": 46,
     "metadata": {},
     "output_type": "execute_result"
    }
   ],
   "source": [
    "# 혼동 행렬(confusion matrix)\n",
    "from sklearn.metrics import confusion_matrix\n",
    "conf_mat = confusion_matrix(iris.target, y_pred_all)\n",
    "conf_mat"
   ]
  },
  {
   "cell_type": "code",
   "execution_count": 47,
   "metadata": {},
   "outputs": [],
   "source": [
    "def classifier_A(length, height): # 입력값에 관계없이 'Samoyed'를 반환\n",
    "    return 'Samoyed'"
   ]
  },
  {
   "cell_type": "code",
   "execution_count": 48,
   "metadata": {},
   "outputs": [
    {
     "data": {
      "text/plain": [
       "array([0, 0, 0, 0, 0, 0, 0, 0, 0, 0, 1, 1, 1, 1, 1, 1, 1, 1, 1, 1])"
      ]
     },
     "execution_count": 48,
     "metadata": {},
     "output_type": "execute_result"
    }
   ],
   "source": [
    "# 각각 10개의 0 값(음성), 1 값(양성)으로 이루어진 목표 값 target\n",
    "target = np.array([0] * 10 + [1] * 10)\n",
    "target  # 10개의 0(Negative), 10개의 1(Positive)를 가짐"
   ]
  },
  {
   "cell_type": "code",
   "execution_count": 49,
   "metadata": {},
   "outputs": [
    {
     "data": {
      "text/plain": [
       "array([0, 0, 0, 0, 0, 1, 1, 1, 0, 0, 1, 1, 1, 1, 1, 1, 0, 0, 1, 1])"
      ]
     },
     "execution_count": 49,
     "metadata": {},
     "output_type": "execute_result"
    }
   ],
   "source": [
    "# 이 목표값에 대한 예측값이 pred numpy 배열에 들어있는 경우를 가정\n",
    "pred = np.array([0, 0, 0, 0, 0, 1, 1, 1, 0, 0, 1, 1, 1, 1, 1, 1, 0, 0, 1, 1])\n",
    "pred"
   ]
  },
  {
   "cell_type": "code",
   "execution_count": 50,
   "metadata": {},
   "outputs": [
    {
     "data": {
      "text/plain": [
       "array([[7, 3],\n",
       "       [2, 8]], dtype=int64)"
      ]
     },
     "execution_count": 50,
     "metadata": {},
     "output_type": "execute_result"
    }
   ],
   "source": [
    "from sklearn.metrics import confusion_matrix\n",
    "confusion_matrix(target, pred)   # 혼동행렬 만들기"
   ]
  },
  {
   "cell_type": "code",
   "execution_count": 51,
   "metadata": {},
   "outputs": [
    {
     "name": "stdout",
     "output_type": "stream",
     "text": [
      "정밀도 : 0.7272727272727273\n",
      "재현률 : 0.8\n",
      "정확도 : 0.75\n",
      "F1 점수 : 0.761904761904762\n"
     ]
    }
   ],
   "source": [
    "from sklearn.metrics import precision_score, recall_score\n",
    "print('정밀도 :', precision_score(target, pred))\n",
    "print('재현률 :', recall_score(target, pred))\n",
    "\n",
    "from sklearn.metrics import accuracy_score, f1_score\n",
    "print('정확도 :', accuracy_score(target, pred))\n",
    "print('F1 점수 :', f1_score(target, pred))"
   ]
  },
  {
   "cell_type": "markdown",
   "metadata": {},
   "source": [
    "## 도전문제 5.3\n",
    "1. 입력 데이터가 10,000개이고, 이 중 9,000개가 사모예드, 100개가 닥스훈트라 하자.\n",
    "5.7절의 classifier_A로 분류했을 때, 정밀도, 재현율, 정확도, F1 점수를 계산하라.\n",
    "\n",
    "2. 표집 편향(sampling bias)의 사례를 수집하고 이로 인한 잘못된 예측 결과를 기술해보라."
   ]
  },
  {
   "cell_type": "markdown",
   "metadata": {},
   "source": [
    "### 1. 입력 데이터가 10,000개이고, 이 중 9,000개가 사모예드, 100개가 닥스훈트라 하자. 5.7절의 classifier_A로 분류했을 때, 정밀도, 재현율, 정확도, F1 점수를 계산하라."
   ]
  },
  {
   "cell_type": "code",
   "execution_count": 138,
   "metadata": {},
   "outputs": [
    {
     "data": {
      "text/plain": [
       "array([0, 0, 0, ..., 1, 1, 1])"
      ]
     },
     "execution_count": 138,
     "metadata": {},
     "output_type": "execute_result"
    }
   ],
   "source": [
    "def classifier_A(length, height): \n",
    "    return 'Samoyed'\n",
    "\n",
    "target = np.array([0] * 100 + [1] * 9900)\n",
    "target  # 100개의 0(닥스훈트), 9900개의 1(사모예드)를 가짐"
   ]
  },
  {
   "cell_type": "code",
   "execution_count": 139,
   "metadata": {},
   "outputs": [
    {
     "data": {
      "text/plain": [
       "array([0, 1, 1, ..., 1, 1, 1])"
      ]
     },
     "execution_count": 139,
     "metadata": {},
     "output_type": "execute_result"
    }
   ],
   "source": [
    "# 이 목표값에 대한 예측값이 pred numpy 배열에 들어있는 경우를 가정\n",
    "x = np.array([0, 1, 1, 1, 1, 1, 1, 1, 1, 1, 1, 1, 1, 1, 1, 1, 1, 1, 1, 1, 1, 1, 1, 1, 1, 1, 1, 1, 1, 1,  1, 1, 1, 1, 1, 1, 1, 1, 1, 1, 1, 1, 1, 1, 1, 1, 1, 1, 1, 1, 1, 1, 1, 1, 1, 1, 1, 1, 1, 1, 1, 1, 1, 1, 1, 1, 1, 1, 1, 1, 1, 1, 1, 1, 1, 1, 1, 1, 1, 1, 1, 1, 1, 1, 1, 1, 1, 1, 1, 1, 1, 1, 1, 1, 1, 1, 1, 1, 1, 1])\n",
    "pred = np.tile(x, 100)\n",
    "pred"
   ]
  },
  {
   "cell_type": "code",
   "execution_count": 140,
   "metadata": {},
   "outputs": [
    {
     "data": {
      "text/plain": [
       "array([[   1,   99],\n",
       "       [  99, 9801]], dtype=int64)"
      ]
     },
     "execution_count": 140,
     "metadata": {},
     "output_type": "execute_result"
    }
   ],
   "source": [
    "from sklearn.metrics import confusion_matrix\n",
    "confusion_matrix(target, pred)   # 혼동행렬 만들기"
   ]
  },
  {
   "cell_type": "code",
   "execution_count": 141,
   "metadata": {},
   "outputs": [
    {
     "name": "stdout",
     "output_type": "stream",
     "text": [
      "정밀도 : 0.99\n",
      "재현률 : 0.99\n",
      "정확도 : 0.9802\n",
      "F1 점수 : 0.99\n"
     ]
    }
   ],
   "source": [
    "from sklearn.metrics import precision_score, recall_score\n",
    "print('정밀도 :', precision_score(target, pred))\n",
    "print('재현률 :', recall_score(target, pred))\n",
    "\n",
    "from sklearn.metrics import accuracy_score, f1_score\n",
    "print('정확도 :', accuracy_score(target, pred))\n",
    "print('F1 점수 :', f1_score(target, pred))"
   ]
  },
  {
   "cell_type": "markdown",
   "metadata": {},
   "source": [
    "### 2. 표집 편향(sampling bias)의 사례를 수집하고 이로 인한 잘못된 예측 결과를 기술해보라."
   ]
  },
  {
   "cell_type": "markdown",
   "metadata": {},
   "source": [
    "## 군집화의 개념과 비지도 학습"
   ]
  },
  {
   "cell_type": "code",
   "execution_count": 143,
   "metadata": {},
   "outputs": [
    {
     "data": {
      "text/plain": [
       "<matplotlib.collections.PathCollection at 0x258651bf2e0>"
      ]
     },
     "execution_count": 143,
     "metadata": {},
     "output_type": "execute_result"
    },
    {
     "data": {
      "image/png": "[encoded data removed]",
      "text/plain": [
       "<Figure size 432x288 with 1 Axes>"
      ]
     },
     "metadata": {
      "needs_background": "light"
     },
     "output_type": "display_data"
    }
   ],
   "source": [
    "# 사모예드와 닥스 훈트의 길이, 높이 데이터는 생략한다\n",
    "# 개의 길이와 높이를 각각 ndarray 형태로 만든다\n",
    "dog_length = np.array(dach_length + samo_length) # 리스트를 이어 ndarray로\n",
    "dog_height = np.array(dach_height + samo_height) # 리스트를 이어 ndarray로\n",
    "\n",
    "dog_data = np.column_stack((dog_length, dog_height))\n",
    "\n",
    "plt.title(\"Dog data without label\")\n",
    "plt.scatter(dog_length, dog_height)"
   ]
  },
  {
   "cell_type": "code",
   "execution_count": 144,
   "metadata": {},
   "outputs": [
    {
     "data": {
      "image/png": "[encoded data removed]",
      "text/plain": [
       "<Figure size 432x288 with 1 Axes>"
      ]
     },
     "metadata": {
      "needs_background": "light"
     },
     "output_type": "display_data"
    }
   ],
   "source": [
    "# 데이터를 두 개의 그룹으로 나누는 k-means 알고리즘을 적용\n",
    "from sklearn import cluster\n",
    "\n",
    "def kmeans_predict_plot(X, k):\n",
    "    model = cluster.KMeans(n_clusters=k)\n",
    "    model.fit(X)\n",
    "    labels = model.predict(X)    \n",
    "    colors = np.array(['red', 'green', 'blue', 'magenta'])\n",
    "    plt.suptitle('k-Means clustering, k={}'.format(k))\n",
    "    plt.scatter(X[:, 0], X[:, 1], color=colors[labels])\n",
    "\n",
    "kmeans_predict_plot(dog_data, k = 2)"
   ]
  },
  {
   "cell_type": "code",
   "execution_count": 146,
   "metadata": {},
   "outputs": [
    {
     "data": {
      "image/png": "[encoded data removed]",
      "text/plain": [
       "<Figure size 432x288 with 1 Axes>"
      ]
     },
     "metadata": {
      "needs_background": "light"
     },
     "output_type": "display_data"
    }
   ],
   "source": [
    "kmeans_predict_plot(dog_data, k = 3) # 3개의 군집 생성"
   ]
  },
  {
   "cell_type": "code",
   "execution_count": 147,
   "metadata": {},
   "outputs": [
    {
     "data": {
      "image/png": "[encoded data removed]",
      "text/plain": [
       "<Figure size 432x288 with 1 Axes>"
      ]
     },
     "metadata": {
      "needs_background": "light"
     },
     "output_type": "display_data"
    }
   ],
   "source": [
    "kmeans_predict_plot(dog_data, k = 4) # 4개의 군집 생성"
   ]
  },
  {
   "cell_type": "markdown",
   "metadata": {},
   "source": [
    "## k-means 알고리즘은 데이터 분포에 대한 사전 지식이 없을 경우에도 사용가능 또한 비지도 학습으로 데이터에 부여된 정답이 없음\n"
   ]
  },
  {
   "cell_type": "markdown",
   "metadata": {},
   "source": [
    "## LAB 5-1 붓꽃 데이터를 군집화 하도록 하자"
   ]
  },
  {
   "cell_type": "code",
   "execution_count": null,
   "metadata": {},
   "outputs": [],
   "source": []
  },
  {
   "cell_type": "code",
   "execution_count": null,
   "metadata": {},
   "outputs": [],
   "source": []
  }
 ],
 "metadata": {
  "interpreter": {
   "hash": "3e844b5651db8b7a30ae1dbaa031cf9917e618af5177108978cde77e957e5f35"
  },
  "kernelspec": {
   "display_name": "Python 3.8.11 64-bit ('base': conda)",
   "name": "python3"
  },
  "language_info": {
   "codemirror_mode": {
    "name": "ipython",
    "version": 3
   },
   "file_extension": ".py",
   "mimetype": "text/x-python",
   "name": "python",
   "nbconvert_exporter": "python",
   "pygments_lexer": "ipython3",
   "version": "3.8.11"
  },
  "orig_nbformat": 4
 },
 "nbformat": 4,
 "nbformat_minor": 2
}
